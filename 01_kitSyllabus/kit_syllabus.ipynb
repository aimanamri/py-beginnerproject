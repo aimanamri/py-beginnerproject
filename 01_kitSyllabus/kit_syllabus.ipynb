{
 "cells": [
  {
   "cell_type": "markdown",
   "id": "wanted-exposure",
   "metadata": {},
   "source": [
    "## 京都工芸繊維大学　：　機械工学課程の科目\n",
    "Extract `(TIMETABLE NUMBER,COURSE TITLE,CREDITS,YEAR,SEMESTER)` (日本語) from the website."
   ]
  },
  {
   "cell_type": "markdown",
   "id": "divided-decrease",
   "metadata": {},
   "source": [
    "<br>\n",
    "<hr>\n",
    "<br>"
   ]
  },
  {
   "cell_type": "code",
   "execution_count": 1,
   "id": "individual-county",
   "metadata": {},
   "outputs": [],
   "source": [
    "from bs4 import BeautifulSoup\n",
    "import requests as r\n",
    "import re"
   ]
  },
  {
   "cell_type": "code",
   "execution_count": 2,
   "id": "educated-investigation",
   "metadata": {},
   "outputs": [
    {
     "name": "stdout",
     "output_type": "stream",
     "text": [
      "<Response [200]>\n"
     ]
    }
   ],
   "source": [
    "url = 'https://www.syllabus.kit.ac.jp/?c=search_list&sk=99&dc=01&ac=05&sc=040&page=1' # single page only\n",
    "response = r.get(url).text\n",
    "soup = BeautifulSoup(response,'lxml')\n",
    "print(r.get(url))"
   ]
  },
  {
   "cell_type": "markdown",
   "id": "fifteen-syndicate",
   "metadata": {},
   "source": [
    "**Python split string into strings with same language characters :**\n",
    "- reference = https://stackoverflow.com/questions/25155279/python-split-string-into-strings-with-same-language-characters"
   ]
  },
  {
   "cell_type": "code",
   "execution_count": 3,
   "id": "distributed-foundation",
   "metadata": {},
   "outputs": [
    {
     "name": "stdout",
     "output_type": "stream",
     "text": [
      "地域創生課題セミナーⅠ\n",
      "ものづくりインターンシップⅠ\n",
      "卒業プロジェクト\n",
      "地域創生課題セミナーⅡ\n",
      "ものづくりインターンシップⅡ\n",
      "ものづくりインターンシップⅢ\n",
      "工業力学Ⅰ\n",
      "工業力学Ⅰ\n",
      "工業力学Ⅱ\n",
      "工業力学Ⅱ\n",
      "材料力学Ⅰ及び演習\n",
      "材料加工プロセス\n",
      "計測基礎学\n",
      "工業材料学\n",
      "材料力学Ⅱ及び演習\n",
      "機械力学Ⅰ及び演習\n",
      "機械加工法及び実習\n",
      "機械製図法Ⅰ\n",
      "熱力学Ⅰ及び演習\n",
      "システム制御理論（機）\n"
     ]
    }
   ],
   "source": [
    "# COURSE TITLE\n",
    "courseName =[]\n",
    "for x in soup.find_all('tr'):\n",
    "    if x.a != None:\n",
    "        title = x.find('form').a.text\n",
    "        course_title = re.split(r'([a-zA-Z]+)', title)[0]\n",
    "        courseName.append(course_title)\n",
    "        print(course_title)"
   ]
  },
  {
   "cell_type": "code",
   "execution_count": 4,
   "id": "stainless-nightlife",
   "metadata": {},
   "outputs": [
    {
     "name": "stdout",
     "output_type": "stream",
     "text": [
      "11129904\n",
      "11129905\n",
      "12339903\n",
      "11319902\n",
      "-\n",
      "-\n",
      "12312301\n",
      "12312501\n",
      "12323101\n",
      "12323201\n",
      "12325301\n",
      "12325501\n",
      "12325101\n",
      "12311501\n",
      "12312401\n",
      "12315301\n",
      "12315401\n",
      "12311401\n",
      "12311301\n",
      "12325302\n"
     ]
    }
   ],
   "source": [
    "## TIMETABLE NUMBER\n",
    "classID= []\n",
    "for x in soup.find_all('tr'):\n",
    "    if x.a != None:\n",
    "        class_id = x.find('td').text\n",
    "        classID.append(class_id)\n",
    "        print(class_id)"
   ]
  },
  {
   "cell_type": "markdown",
   "id": "working-youth",
   "metadata": {},
   "source": [
    "**Find index of tag with certain text in beautifulsoup/python:**\n",
    "- reference : https://stackoverflow.com/questions/33095297/find-index-of-tag-with-certain-text-in-beautifulsoup-python"
   ]
  },
  {
   "cell_type": "code",
   "execution_count": 5,
   "id": "pleased-oregon",
   "metadata": {},
   "outputs": [
    {
     "name": "stdout",
     "output_type": "stream",
     "text": [
      "2\n",
      "4\n",
      "8\n",
      "2\n",
      "4\n",
      "2\n",
      "2\n",
      "2\n",
      "2\n",
      "2\n",
      "2\n",
      "2\n",
      "2\n",
      "2\n",
      "2\n",
      "2\n",
      "2\n",
      "2\n",
      "2\n",
      "2\n"
     ]
    }
   ],
   "source": [
    "## CREDITS\n",
    "cred_list=[]\n",
    "for y in soup.find('table',class_='gen_tbl2 data_list_tbl').find_all('tr'):\n",
    "    if y != None:\n",
    "        credits = y.find_all('td')\n",
    "        for x in credits[4:5]:\n",
    "            data = {}\n",
    "            print(x.text)\n",
    "            data['Credit'] = x.text\n",
    "            cred_list.append(int(x.text)) #change string to integer for credits."
   ]
  },
  {
   "cell_type": "code",
   "execution_count": 6,
   "id": "angry-broadcast",
   "metadata": {},
   "outputs": [
    {
     "data": {
      "text/plain": [
       "[2, 4, 8, 2, 4, 2, 2, 2, 2, 2, 2, 2, 2, 2, 2, 2, 2, 2, 2, 2]"
      ]
     },
     "execution_count": 6,
     "metadata": {},
     "output_type": "execute_result"
    }
   ],
   "source": [
    "cred_list"
   ]
  },
  {
   "cell_type": "code",
   "execution_count": 7,
   "id": "million-yellow",
   "metadata": {},
   "outputs": [
    {
     "name": "stdout",
     "output_type": "stream",
     "text": [
      "３\n",
      "３\n",
      "４\n",
      "４\n",
      "４\n",
      "４\n",
      "１\n",
      "１\n",
      "１\n",
      "１\n",
      "１\n",
      "１\n",
      "１\n",
      "２\n",
      "２\n",
      "２\n",
      "２\n",
      "２\n",
      "２\n",
      "２\n"
     ]
    }
   ],
   "source": [
    "## Year\n",
    "year_list=[]\n",
    "for y in soup.find('table',class_='gen_tbl2 data_list_tbl').find_all('tr'):\n",
    "    if y != None:\n",
    "        year = y.find_all('td')\n",
    "        for x in year[6:7]:\n",
    "            print(x.text[0])\n",
    "            data['Year'] = x.text[0]\n",
    "            year_list.append(x.text[0])"
   ]
  },
  {
   "cell_type": "code",
   "execution_count": 8,
   "id": "german-evaluation",
   "metadata": {},
   "outputs": [
    {
     "data": {
      "text/plain": [
       "['３',\n",
       " '３',\n",
       " '４',\n",
       " '４',\n",
       " '４',\n",
       " '４',\n",
       " '１',\n",
       " '１',\n",
       " '１',\n",
       " '１',\n",
       " '１',\n",
       " '１',\n",
       " '１',\n",
       " '２',\n",
       " '２',\n",
       " '２',\n",
       " '２',\n",
       " '２',\n",
       " '２',\n",
       " '２']"
      ]
     },
     "execution_count": 8,
     "metadata": {},
     "output_type": "execute_result"
    }
   ],
   "source": [
    "year_list"
   ]
  },
  {
   "cell_type": "code",
   "execution_count": 9,
   "id": "designing-treatment",
   "metadata": {},
   "outputs": [
    {
     "name": "stdout",
     "output_type": "stream",
     "text": [
      "第3ｸｫｰﾀ\n",
      "第4ｸｫｰﾀ\n",
      "通年\n",
      "第1ｸｫｰﾀ\n",
      "第2ｸｫｰﾀ\n",
      "第2ｸｫｰﾀ\n",
      "前学期\n",
      "前学期\n",
      "後学期\n",
      "後学期\n",
      "後学期\n",
      "後学期\n",
      "後学期\n",
      "前学期\n",
      "前学期\n",
      "前学期\n",
      "前学期\n",
      "前学期\n",
      "前学期\n",
      "後学期\n"
     ]
    }
   ],
   "source": [
    "## SEMESTER\n",
    "sem_list=[]\n",
    "for y in soup.find('table',class_='gen_tbl2 data_list_tbl').find_all('tr'):\n",
    "    if y != None:\n",
    "        sm = y.find_all('td')\n",
    "        for x in sm[7:8]:\n",
    "            y = x.text\n",
    "            sem =  re.split(r'([a-zA-Z]+)', y)[0]\n",
    "            data['Semester'] = sem\n",
    "            sem_list.append(sem)\n",
    "            print(sem)"
   ]
  },
  {
   "cell_type": "code",
   "execution_count": 10,
   "id": "graphic-storm",
   "metadata": {},
   "outputs": [
    {
     "data": {
      "text/plain": [
       "['第3ｸｫｰﾀ',\n",
       " '第4ｸｫｰﾀ',\n",
       " '通年',\n",
       " '第1ｸｫｰﾀ',\n",
       " '第2ｸｫｰﾀ',\n",
       " '第2ｸｫｰﾀ',\n",
       " '前学期',\n",
       " '前学期',\n",
       " '後学期',\n",
       " '後学期',\n",
       " '後学期',\n",
       " '後学期',\n",
       " '後学期',\n",
       " '前学期',\n",
       " '前学期',\n",
       " '前学期',\n",
       " '前学期',\n",
       " '前学期',\n",
       " '前学期',\n",
       " '後学期']"
      ]
     },
     "execution_count": 10,
     "metadata": {},
     "output_type": "execute_result"
    }
   ],
   "source": [
    "sem_list"
   ]
  },
  {
   "cell_type": "markdown",
   "id": "confused-grave",
   "metadata": {},
   "source": [
    "<hr>"
   ]
  },
  {
   "cell_type": "markdown",
   "id": "killing-jumping",
   "metadata": {},
   "source": [
    "### Create Data Frame (TIMETABLE NUMBER,COURSE TITLE,CREDITS,YEAR,SEMESTER)"
   ]
  },
  {
   "cell_type": "code",
   "execution_count": 12,
   "id": "conservative-publication",
   "metadata": {},
   "outputs": [],
   "source": [
    "import pandas as pd\n",
    "import numpy as np"
   ]
  },
  {
   "cell_type": "markdown",
   "id": "ongoing-coordinator",
   "metadata": {},
   "source": [
    "**How to Create Pandas Dataframe from Multiple Lists?**\n",
    "- reference : https://cmdlinetips.com/2018/01/how-to-create-pandas-dataframe-from-multiple-lists/"
   ]
  },
  {
   "cell_type": "code",
   "execution_count": 28,
   "id": "bright-thriller",
   "metadata": {},
   "outputs": [],
   "source": [
    "data = {'Timetable number' : classID,\n",
    "       'Course name': courseName,\n",
    "        'Credits' : cred_list,\n",
    "        'Year' : year_list,\n",
    "        'Semester' : sem_list\n",
    "       }"
   ]
  },
  {
   "cell_type": "code",
   "execution_count": 29,
   "id": "fluid-grocery",
   "metadata": {},
   "outputs": [
    {
     "data": {
      "text/html": [
       "<div>\n",
       "<style scoped>\n",
       "    .dataframe tbody tr th:only-of-type {\n",
       "        vertical-align: middle;\n",
       "    }\n",
       "\n",
       "    .dataframe tbody tr th {\n",
       "        vertical-align: top;\n",
       "    }\n",
       "\n",
       "    .dataframe thead th {\n",
       "        text-align: right;\n",
       "    }\n",
       "</style>\n",
       "<table border=\"1\" class=\"dataframe\">\n",
       "  <thead>\n",
       "    <tr style=\"text-align: right;\">\n",
       "      <th></th>\n",
       "      <th>Timetable number</th>\n",
       "      <th>Course name</th>\n",
       "      <th>Credits</th>\n",
       "      <th>Year</th>\n",
       "      <th>Semester</th>\n",
       "    </tr>\n",
       "  </thead>\n",
       "  <tbody>\n",
       "    <tr>\n",
       "      <th>0</th>\n",
       "      <td>11129904</td>\n",
       "      <td>地域創生課題セミナーⅠ</td>\n",
       "      <td>2</td>\n",
       "      <td>３</td>\n",
       "      <td>第3ｸｫｰﾀ</td>\n",
       "    </tr>\n",
       "    <tr>\n",
       "      <th>1</th>\n",
       "      <td>11129905</td>\n",
       "      <td>ものづくりインターンシップⅠ</td>\n",
       "      <td>4</td>\n",
       "      <td>３</td>\n",
       "      <td>第4ｸｫｰﾀ</td>\n",
       "    </tr>\n",
       "    <tr>\n",
       "      <th>2</th>\n",
       "      <td>12339903</td>\n",
       "      <td>卒業プロジェクト</td>\n",
       "      <td>8</td>\n",
       "      <td>４</td>\n",
       "      <td>通年</td>\n",
       "    </tr>\n",
       "    <tr>\n",
       "      <th>3</th>\n",
       "      <td>11319902</td>\n",
       "      <td>地域創生課題セミナーⅡ</td>\n",
       "      <td>2</td>\n",
       "      <td>４</td>\n",
       "      <td>第1ｸｫｰﾀ</td>\n",
       "    </tr>\n",
       "    <tr>\n",
       "      <th>4</th>\n",
       "      <td>-</td>\n",
       "      <td>ものづくりインターンシップⅡ</td>\n",
       "      <td>4</td>\n",
       "      <td>４</td>\n",
       "      <td>第2ｸｫｰﾀ</td>\n",
       "    </tr>\n",
       "    <tr>\n",
       "      <th>5</th>\n",
       "      <td>-</td>\n",
       "      <td>ものづくりインターンシップⅢ</td>\n",
       "      <td>2</td>\n",
       "      <td>４</td>\n",
       "      <td>第2ｸｫｰﾀ</td>\n",
       "    </tr>\n",
       "    <tr>\n",
       "      <th>6</th>\n",
       "      <td>12312301</td>\n",
       "      <td>工業力学Ⅰ</td>\n",
       "      <td>2</td>\n",
       "      <td>１</td>\n",
       "      <td>前学期</td>\n",
       "    </tr>\n",
       "    <tr>\n",
       "      <th>7</th>\n",
       "      <td>12312501</td>\n",
       "      <td>工業力学Ⅰ</td>\n",
       "      <td>2</td>\n",
       "      <td>１</td>\n",
       "      <td>前学期</td>\n",
       "    </tr>\n",
       "    <tr>\n",
       "      <th>8</th>\n",
       "      <td>12323101</td>\n",
       "      <td>工業力学Ⅱ</td>\n",
       "      <td>2</td>\n",
       "      <td>１</td>\n",
       "      <td>後学期</td>\n",
       "    </tr>\n",
       "    <tr>\n",
       "      <th>9</th>\n",
       "      <td>12323201</td>\n",
       "      <td>工業力学Ⅱ</td>\n",
       "      <td>2</td>\n",
       "      <td>１</td>\n",
       "      <td>後学期</td>\n",
       "    </tr>\n",
       "    <tr>\n",
       "      <th>10</th>\n",
       "      <td>12325301</td>\n",
       "      <td>材料力学Ⅰ及び演習</td>\n",
       "      <td>2</td>\n",
       "      <td>１</td>\n",
       "      <td>後学期</td>\n",
       "    </tr>\n",
       "    <tr>\n",
       "      <th>11</th>\n",
       "      <td>12325501</td>\n",
       "      <td>材料加工プロセス</td>\n",
       "      <td>2</td>\n",
       "      <td>１</td>\n",
       "      <td>後学期</td>\n",
       "    </tr>\n",
       "    <tr>\n",
       "      <th>12</th>\n",
       "      <td>12325101</td>\n",
       "      <td>計測基礎学</td>\n",
       "      <td>2</td>\n",
       "      <td>１</td>\n",
       "      <td>後学期</td>\n",
       "    </tr>\n",
       "    <tr>\n",
       "      <th>13</th>\n",
       "      <td>12311501</td>\n",
       "      <td>工業材料学</td>\n",
       "      <td>2</td>\n",
       "      <td>２</td>\n",
       "      <td>前学期</td>\n",
       "    </tr>\n",
       "    <tr>\n",
       "      <th>14</th>\n",
       "      <td>12312401</td>\n",
       "      <td>材料力学Ⅱ及び演習</td>\n",
       "      <td>2</td>\n",
       "      <td>２</td>\n",
       "      <td>前学期</td>\n",
       "    </tr>\n",
       "    <tr>\n",
       "      <th>15</th>\n",
       "      <td>12315301</td>\n",
       "      <td>機械力学Ⅰ及び演習</td>\n",
       "      <td>2</td>\n",
       "      <td>２</td>\n",
       "      <td>前学期</td>\n",
       "    </tr>\n",
       "    <tr>\n",
       "      <th>16</th>\n",
       "      <td>12315401</td>\n",
       "      <td>機械加工法及び実習</td>\n",
       "      <td>2</td>\n",
       "      <td>２</td>\n",
       "      <td>前学期</td>\n",
       "    </tr>\n",
       "    <tr>\n",
       "      <th>17</th>\n",
       "      <td>12311401</td>\n",
       "      <td>機械製図法Ⅰ</td>\n",
       "      <td>2</td>\n",
       "      <td>２</td>\n",
       "      <td>前学期</td>\n",
       "    </tr>\n",
       "    <tr>\n",
       "      <th>18</th>\n",
       "      <td>12311301</td>\n",
       "      <td>熱力学Ⅰ及び演習</td>\n",
       "      <td>2</td>\n",
       "      <td>２</td>\n",
       "      <td>前学期</td>\n",
       "    </tr>\n",
       "    <tr>\n",
       "      <th>19</th>\n",
       "      <td>12325302</td>\n",
       "      <td>システム制御理論（機）</td>\n",
       "      <td>2</td>\n",
       "      <td>２</td>\n",
       "      <td>後学期</td>\n",
       "    </tr>\n",
       "  </tbody>\n",
       "</table>\n",
       "</div>"
      ],
      "text/plain": [
       "   Timetable number     Course name  Credits Year Semester\n",
       "0          11129904     地域創生課題セミナーⅠ        2    ３   第3ｸｫｰﾀ\n",
       "1          11129905  ものづくりインターンシップⅠ        4    ３   第4ｸｫｰﾀ\n",
       "2          12339903        卒業プロジェクト        8    ４       通年\n",
       "3          11319902     地域創生課題セミナーⅡ        2    ４   第1ｸｫｰﾀ\n",
       "4                 -  ものづくりインターンシップⅡ        4    ４   第2ｸｫｰﾀ\n",
       "5                 -  ものづくりインターンシップⅢ        2    ４   第2ｸｫｰﾀ\n",
       "6          12312301           工業力学Ⅰ        2    １      前学期\n",
       "7          12312501           工業力学Ⅰ        2    １      前学期\n",
       "8          12323101           工業力学Ⅱ        2    １      後学期\n",
       "9          12323201           工業力学Ⅱ        2    １      後学期\n",
       "10         12325301       材料力学Ⅰ及び演習        2    １      後学期\n",
       "11         12325501        材料加工プロセス        2    １      後学期\n",
       "12         12325101           計測基礎学        2    １      後学期\n",
       "13         12311501           工業材料学        2    ２      前学期\n",
       "14         12312401       材料力学Ⅱ及び演習        2    ２      前学期\n",
       "15         12315301       機械力学Ⅰ及び演習        2    ２      前学期\n",
       "16         12315401       機械加工法及び実習        2    ２      前学期\n",
       "17         12311401          機械製図法Ⅰ        2    ２      前学期\n",
       "18         12311301        熱力学Ⅰ及び演習        2    ２      前学期\n",
       "19         12325302     システム制御理論（機）        2    ２      後学期"
      ]
     },
     "execution_count": 29,
     "metadata": {},
     "output_type": "execute_result"
    }
   ],
   "source": [
    "df = pd.DataFrame(data=data)\n",
    "df.head(40)"
   ]
  },
  {
   "cell_type": "code",
   "execution_count": 23,
   "id": "stuffed-estate",
   "metadata": {},
   "outputs": [
    {
     "data": {
      "text/plain": [
       "Course name         object\n",
       "Timetable number    object\n",
       "Credits              int64\n",
       "Year                object\n",
       "Semester            object\n",
       "dtype: object"
      ]
     },
     "execution_count": 23,
     "metadata": {},
     "output_type": "execute_result"
    }
   ],
   "source": [
    "df.dtypes"
   ]
  },
  {
   "cell_type": "code",
   "execution_count": 24,
   "id": "latest-sensitivity",
   "metadata": {},
   "outputs": [
    {
     "data": {
      "text/plain": [
       "(20, 5)"
      ]
     },
     "execution_count": 24,
     "metadata": {},
     "output_type": "execute_result"
    }
   ],
   "source": [
    "df.shape"
   ]
  },
  {
   "cell_type": "markdown",
   "id": "modern-rental",
   "metadata": {},
   "source": [
    "<hr>"
   ]
  },
  {
   "cell_type": "markdown",
   "id": "anonymous-breeding",
   "metadata": {},
   "source": [
    "### Save as csv file or excel file"
   ]
  },
  {
   "cell_type": "code",
   "execution_count": 30,
   "id": "scenic-ottawa",
   "metadata": {},
   "outputs": [],
   "source": [
    "df.to_csv('output.csv',index=False,header=True)"
   ]
  }
 ],
 "metadata": {
  "kernelspec": {
   "display_name": "Python 3",
   "language": "python",
   "name": "python3"
  },
  "language_info": {
   "codemirror_mode": {
    "name": "ipython",
    "version": 3
   },
   "file_extension": ".py",
   "mimetype": "text/x-python",
   "name": "python",
   "nbconvert_exporter": "python",
   "pygments_lexer": "ipython3",
   "version": "3.9.1"
  },
  "toc-showcode": true,
  "toc-showmarkdowntxt": true
 },
 "nbformat": 4,
 "nbformat_minor": 5
}
