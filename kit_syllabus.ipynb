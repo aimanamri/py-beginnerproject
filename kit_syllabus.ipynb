{
 "cells": [
  {
   "cell_type": "markdown",
   "id": "monthly-dialogue",
   "metadata": {},
   "source": [
    "## 京都工芸繊維大学　：　機械工学課程「科目」\n",
    "extract `(TIMETABLE NUMBER,COURSE TITLE,CREDITS,YEAR,SEMESTER)` (日本語)"
   ]
  },
  {
   "cell_type": "code",
   "execution_count": 1,
   "id": "fancy-inspection",
   "metadata": {},
   "outputs": [],
   "source": [
    "from bs4 import BeautifulSoup\n",
    "import requests as r\n",
    "import re"
   ]
  },
  {
   "cell_type": "code",
   "execution_count": 2,
   "id": "retained-foundation",
   "metadata": {},
   "outputs": [
    {
     "name": "stdout",
     "output_type": "stream",
     "text": [
      "<Response [200]>\n"
     ]
    }
   ],
   "source": [
    "url = 'https://www.syllabus.kit.ac.jp/?c=search_list&sk=99&dc=01&ac=05&sc=040&page=4' # page 4 only\n",
    "response = r.get(url).text\n",
    "soup = BeautifulSoup(response,'lxml')\n",
    "print(r.get(url))"
   ]
  },
  {
   "cell_type": "markdown",
   "id": "surface-munich",
   "metadata": {},
   "source": [
    "**Python split string into strings with same language characters :**\n",
    "- reference = https://stackoverflow.com/questions/25155279/python-split-string-into-strings-with-same-language-characters"
   ]
  },
  {
   "cell_type": "code",
   "execution_count": 3,
   "id": "consecutive-battlefield",
   "metadata": {},
   "outputs": [
    {
     "name": "stdout",
     "output_type": "stream",
     "text": [
      "ロボティクス\n",
      "卒業論文\n",
      "卒業研究\n",
      "卒業研究\n"
     ]
    }
   ],
   "source": [
    "# COURSE TITLE\n",
    "for x in soup.find_all('tr'):\n",
    "    if x.a != None:\n",
    "        title = x.find('form').a.text\n",
    "        course_title = re.split(r'([a-zA-Z]+)', title)[0]\n",
    "        print(course_title)"
   ]
  },
  {
   "cell_type": "code",
   "execution_count": 4,
   "id": "violent-synthetic",
   "metadata": {},
   "outputs": [
    {
     "name": "stdout",
     "output_type": "stream",
     "text": [
      "12313402\n",
      "12329901\n",
      "12339904\n",
      "12339902\n"
     ]
    }
   ],
   "source": [
    "## TIMETABLE NUMBER\n",
    "for x in soup.find_all('tr'):\n",
    "    if x.a != None:\n",
    "        typo = x.find('td').text\n",
    "        print(typo)"
   ]
  },
  {
   "cell_type": "markdown",
   "id": "phantom-roads",
   "metadata": {},
   "source": [
    "**Find index of tag with certain text in beautifulsoup/python:**\n",
    "- reference : https://stackoverflow.com/questions/33095297/find-index-of-tag-with-certain-text-in-beautifulsoup-python"
   ]
  },
  {
   "cell_type": "code",
   "execution_count": 49,
   "id": "fallen-advance",
   "metadata": {},
   "outputs": [
    {
     "name": "stdout",
     "output_type": "stream",
     "text": [
      "2\n",
      "1\n",
      "8\n",
      "6\n"
     ]
    }
   ],
   "source": [
    "## CREDITS\n",
    "cred_list=[]\n",
    "for y in soup.find('table',class_='gen_tbl2 data_list_tbl').find_all('tr'):\n",
    "    if y != None:\n",
    "        credits = y.find_all('td')\n",
    "        for x in credits[4:5]:\n",
    "            print(x.text)\n",
    "            cred_list.append(x.text)"
   ]
  },
  {
   "cell_type": "code",
   "execution_count": 50,
   "id": "developmental-inventory",
   "metadata": {},
   "outputs": [
    {
     "data": {
      "text/plain": [
       "['2', '1', '8', '6']"
      ]
     },
     "execution_count": 50,
     "metadata": {},
     "output_type": "execute_result"
    }
   ],
   "source": [
    "cred_list"
   ]
  },
  {
   "cell_type": "code",
   "execution_count": 75,
   "id": "waiting-doubt",
   "metadata": {},
   "outputs": [
    {
     "name": "stdout",
     "output_type": "stream",
     "text": [
      "４\n",
      "４\n",
      "４\n",
      "４\n"
     ]
    }
   ],
   "source": [
    "## Year\n",
    "year_list=[]\n",
    "for y in soup.find('table',class_='gen_tbl2 data_list_tbl').find_all('tr'):\n",
    "    if y != None:\n",
    "        year = y.find_all('td')\n",
    "        for x in year[6:7]:\n",
    "            print(x.text[0])\n",
    "            year_list.append(x.text[0])"
   ]
  },
  {
   "cell_type": "code",
   "execution_count": 76,
   "id": "genuine-richards",
   "metadata": {},
   "outputs": [
    {
     "data": {
      "text/plain": [
       "['４', '４', '４', '４']"
      ]
     },
     "execution_count": 76,
     "metadata": {},
     "output_type": "execute_result"
    }
   ],
   "source": [
    "year_list"
   ]
  },
  {
   "cell_type": "code",
   "execution_count": 90,
   "id": "sudden-palace",
   "metadata": {},
   "outputs": [
    {
     "name": "stdout",
     "output_type": "stream",
     "text": [
      "前学期\n",
      "後学期\n",
      "通年\n",
      "通年\n"
     ]
    }
   ],
   "source": [
    "## SEMESTER\n",
    "sem_list=[]\n",
    "for y in soup.find('table',class_='gen_tbl2 data_list_tbl').find_all('tr'):\n",
    "    if y != None:\n",
    "        sm = y.find_all('td')\n",
    "        for x in sm[7:8]:\n",
    "            y = x.text\n",
    "            sem =  re.split(r'([a-zA-Z]+)', y)[0]\n",
    "            sem_list.append(sem)\n",
    "            print(sem)"
   ]
  },
  {
   "cell_type": "code",
   "execution_count": 91,
   "id": "varying-passage",
   "metadata": {},
   "outputs": [
    {
     "data": {
      "text/plain": [
       "['前学期', '後学期', '通年', '通年']"
      ]
     },
     "execution_count": 91,
     "metadata": {},
     "output_type": "execute_result"
    }
   ],
   "source": [
    "sem_list"
   ]
  },
  {
   "cell_type": "code",
   "execution_count": null,
   "id": "marked-projector",
   "metadata": {},
   "outputs": [],
   "source": []
  }
 ],
 "metadata": {
  "kernelspec": {
   "display_name": "Python 3",
   "language": "python",
   "name": "python3"
  },
  "language_info": {
   "codemirror_mode": {
    "name": "ipython",
    "version": 3
   },
   "file_extension": ".py",
   "mimetype": "text/x-python",
   "name": "python",
   "nbconvert_exporter": "python",
   "pygments_lexer": "ipython3",
   "version": "3.9.1"
  }
 },
 "nbformat": 4,
 "nbformat_minor": 5
}
