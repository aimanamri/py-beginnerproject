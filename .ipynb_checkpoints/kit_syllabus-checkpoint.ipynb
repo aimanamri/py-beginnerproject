{
 "cells": [
  {
   "cell_type": "markdown",
   "id": "abstract-fifth",
   "metadata": {},
   "source": [
    "## 京都工芸繊維大学　：　機械工学課程「科目」\n",
    "Extract `(TIMETABLE NUMBER,COURSE TITLE,CREDITS,YEAR,SEMESTER)` (日本語) from the website."
   ]
  },
  {
   "cell_type": "code",
   "execution_count": 1,
   "id": "important-organization",
   "metadata": {},
   "outputs": [],
   "source": [
    "from bs4 import BeautifulSoup\n",
    "import requests as r\n",
    "import re"
   ]
  },
  {
   "cell_type": "code",
   "execution_count": 2,
   "id": "structural-mitchell",
   "metadata": {},
   "outputs": [
    {
     "name": "stdout",
     "output_type": "stream",
     "text": [
      "<Response [200]>\n"
     ]
    }
   ],
   "source": [
    "url = 'https://www.syllabus.kit.ac.jp/?c=search_list&sk=99&dc=01&ac=05&sc=040&page=1' # just single page only\n",
    "response = r.get(url).text\n",
    "soup = BeautifulSoup(response,'lxml')\n",
    "print(r.get(url))"
   ]
  },
  {
   "cell_type": "markdown",
   "id": "creative-scott",
   "metadata": {},
   "source": [
    "**Python split string into strings with same language characters :**\n",
    "- reference = https://stackoverflow.com/questions/25155279/python-split-string-into-strings-with-same-language-characters"
   ]
  },
  {
   "cell_type": "code",
   "execution_count": 3,
   "id": "terminal-happiness",
   "metadata": {},
   "outputs": [
    {
     "name": "stdout",
     "output_type": "stream",
     "text": [
      "地域創生課題セミナーⅠ\n",
      "ものづくりインターンシップⅠ\n",
      "卒業プロジェクト\n",
      "地域創生課題セミナーⅡ\n",
      "ものづくりインターンシップⅡ\n",
      "ものづくりインターンシップⅢ\n",
      "工業力学Ⅰ\n",
      "工業力学Ⅰ\n",
      "工業力学Ⅱ\n",
      "工業力学Ⅱ\n",
      "材料力学Ⅰ及び演習\n",
      "材料加工プロセス\n",
      "計測基礎学\n",
      "工業材料学\n",
      "材料力学Ⅱ及び演習\n",
      "機械力学Ⅰ及び演習\n",
      "機械加工法及び実習\n",
      "機械製図法Ⅰ\n",
      "熱力学Ⅰ及び演習\n",
      "システム制御理論（機）\n"
     ]
    }
   ],
   "source": [
    "# COURSE TITLE\n",
    "for x in soup.find_all('tr'):\n",
    "    if x.a != None:\n",
    "        title = x.find('form').a.text\n",
    "        course_title = re.split(r'([a-zA-Z]+)', title)[0]\n",
    "        print(course_title)"
   ]
  },
  {
   "cell_type": "code",
   "execution_count": 4,
   "id": "crucial-peeing",
   "metadata": {},
   "outputs": [
    {
     "name": "stdout",
     "output_type": "stream",
     "text": [
      "11129904\n",
      "11129905\n",
      "12339903\n",
      "11319902\n",
      "-\n",
      "-\n",
      "12312301\n",
      "12312501\n",
      "12323101\n",
      "12323201\n",
      "12325301\n",
      "12325501\n",
      "12325101\n",
      "12311501\n",
      "12312401\n",
      "12315301\n",
      "12315401\n",
      "12311401\n",
      "12311301\n",
      "12325302\n"
     ]
    }
   ],
   "source": [
    "## TIMETABLE NUMBER\n",
    "for x in soup.find_all('tr'):\n",
    "    if x.a != None:\n",
    "        typo = x.find('td').text\n",
    "        print(typo)"
   ]
  },
  {
   "cell_type": "markdown",
   "id": "floating-harvey",
   "metadata": {},
   "source": [
    "**Find index of tag with certain text in beautifulsoup/python:**\n",
    "- reference : https://stackoverflow.com/questions/33095297/find-index-of-tag-with-certain-text-in-beautifulsoup-python"
   ]
  },
  {
   "cell_type": "code",
   "execution_count": 13,
   "id": "monthly-means",
   "metadata": {},
   "outputs": [
    {
     "name": "stdout",
     "output_type": "stream",
     "text": [
      "2\n",
      "4\n",
      "8\n",
      "2\n",
      "4\n",
      "2\n",
      "2\n",
      "2\n",
      "2\n",
      "2\n",
      "2\n",
      "2\n",
      "2\n",
      "2\n",
      "2\n",
      "2\n",
      "2\n",
      "2\n",
      "2\n",
      "2\n"
     ]
    }
   ],
   "source": [
    "## CREDITS\n",
    "cred_list=[]\n",
    "for y in soup.find('table',class_='gen_tbl2 data_list_tbl').find_all('tr'):\n",
    "    if y != None:\n",
    "        credits = y.find_all('td')\n",
    "        for x in credits[4:5]:\n",
    "            print(x.text)\n",
    "            cred_list.append(int(x.text)) #change string to integer for credits."
   ]
  },
  {
   "cell_type": "code",
   "execution_count": 14,
   "id": "metallic-eagle",
   "metadata": {},
   "outputs": [
    {
     "data": {
      "text/plain": [
       "[2, 4, 8, 2, 4, 2, 2, 2, 2, 2, 2, 2, 2, 2, 2, 2, 2, 2, 2, 2]"
      ]
     },
     "execution_count": 14,
     "metadata": {},
     "output_type": "execute_result"
    }
   ],
   "source": [
    "cred_list"
   ]
  },
  {
   "cell_type": "code",
   "execution_count": 11,
   "id": "handmade-mixture",
   "metadata": {},
   "outputs": [
    {
     "name": "stdout",
     "output_type": "stream",
     "text": [
      "３\n",
      "３\n",
      "４\n",
      "４\n",
      "４\n",
      "４\n",
      "１\n",
      "１\n",
      "１\n",
      "１\n",
      "１\n",
      "１\n",
      "１\n",
      "２\n",
      "２\n",
      "２\n",
      "２\n",
      "２\n",
      "２\n",
      "２\n"
     ]
    }
   ],
   "source": [
    "## Year\n",
    "year_list=[]\n",
    "for y in soup.find('table',class_='gen_tbl2 data_list_tbl').find_all('tr'):\n",
    "    if y != None:\n",
    "        year = y.find_all('td')\n",
    "        for x in year[6:7]:\n",
    "            print(x.text[0])\n",
    "            year_list.append(x.text[0])"
   ]
  },
  {
   "cell_type": "code",
   "execution_count": 12,
   "id": "existing-representation",
   "metadata": {},
   "outputs": [
    {
     "data": {
      "text/plain": [
       "['３',\n",
       " '３',\n",
       " '４',\n",
       " '４',\n",
       " '４',\n",
       " '４',\n",
       " '１',\n",
       " '１',\n",
       " '１',\n",
       " '１',\n",
       " '１',\n",
       " '１',\n",
       " '１',\n",
       " '２',\n",
       " '２',\n",
       " '２',\n",
       " '２',\n",
       " '２',\n",
       " '２',\n",
       " '２']"
      ]
     },
     "execution_count": 12,
     "metadata": {},
     "output_type": "execute_result"
    }
   ],
   "source": [
    "year_list"
   ]
  },
  {
   "cell_type": "code",
   "execution_count": 9,
   "id": "turned-opinion",
   "metadata": {},
   "outputs": [
    {
     "name": "stdout",
     "output_type": "stream",
     "text": [
      "第3ｸｫｰﾀ\n",
      "第4ｸｫｰﾀ\n",
      "通年\n",
      "第1ｸｫｰﾀ\n",
      "第2ｸｫｰﾀ\n",
      "第2ｸｫｰﾀ\n",
      "前学期\n",
      "前学期\n",
      "後学期\n",
      "後学期\n",
      "後学期\n",
      "後学期\n",
      "後学期\n",
      "前学期\n",
      "前学期\n",
      "前学期\n",
      "前学期\n",
      "前学期\n",
      "前学期\n",
      "後学期\n"
     ]
    }
   ],
   "source": [
    "## SEMESTER\n",
    "sem_list=[]\n",
    "for y in soup.find('table',class_='gen_tbl2 data_list_tbl').find_all('tr'):\n",
    "    if y != None:\n",
    "        sm = y.find_all('td')\n",
    "        for x in sm[7:8]:\n",
    "            y = x.text\n",
    "            sem =  re.split(r'([a-zA-Z]+)', y)[0]\n",
    "            sem_list.append(sem)\n",
    "            print(sem)"
   ]
  },
  {
   "cell_type": "code",
   "execution_count": 10,
   "id": "portuguese-devices",
   "metadata": {},
   "outputs": [
    {
     "data": {
      "text/plain": [
       "['第3ｸｫｰﾀ',\n",
       " '第4ｸｫｰﾀ',\n",
       " '通年',\n",
       " '第1ｸｫｰﾀ',\n",
       " '第2ｸｫｰﾀ',\n",
       " '第2ｸｫｰﾀ',\n",
       " '前学期',\n",
       " '前学期',\n",
       " '後学期',\n",
       " '後学期',\n",
       " '後学期',\n",
       " '後学期',\n",
       " '後学期',\n",
       " '前学期',\n",
       " '前学期',\n",
       " '前学期',\n",
       " '前学期',\n",
       " '前学期',\n",
       " '前学期',\n",
       " '後学期']"
      ]
     },
     "execution_count": 10,
     "metadata": {},
     "output_type": "execute_result"
    }
   ],
   "source": [
    "sem_list"
   ]
  },
  {
   "cell_type": "markdown",
   "id": "numerous-junction",
   "metadata": {},
   "source": [
    "### Create Data Frame (TIMETABLE NUMBER,COURSE TITLE,CREDITS,YEAR,SEMESTER)"
   ]
  }
 ],
 "metadata": {
  "kernelspec": {
   "display_name": "Python 3",
   "language": "python",
   "name": "python3"
  },
  "language_info": {
   "codemirror_mode": {
    "name": "ipython",
    "version": 3
   },
   "file_extension": ".py",
   "mimetype": "text/x-python",
   "name": "python",
   "nbconvert_exporter": "python",
   "pygments_lexer": "ipython3",
   "version": "3.9.1"
  }
 },
 "nbformat": 4,
 "nbformat_minor": 5
}
